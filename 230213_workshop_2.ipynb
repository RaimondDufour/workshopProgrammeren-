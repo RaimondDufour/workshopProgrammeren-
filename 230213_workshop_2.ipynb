{
  "nbformat": 4,
  "nbformat_minor": 0,
  "metadata": {
    "colab": {
      "provenance": [],
      "authorship_tag": "ABX9TyNrfPENj0OPt/QdWbgHch12",
      "include_colab_link": true
    },
    "kernelspec": {
      "name": "python3",
      "display_name": "Python 3"
    },
    "language_info": {
      "name": "python"
    }
  },
  "cells": [
    {
      "cell_type": "markdown",
      "metadata": {
        "id": "view-in-github",
        "colab_type": "text"
      },
      "source": [
        "<a href=\"https://colab.research.google.com/github/RaimondDufour/workshopProgrammeren-/blob/main/230213_workshop_2.ipynb\" target=\"_parent\"><img src=\"https://colab.research.google.com/assets/colab-badge.svg\" alt=\"Open In Colab\"/></a>"
      ]
    },
    {
      "cell_type": "markdown",
      "source": [
        "#Beginnersworkshop programmeren voor juristen deel 2\n",
        "\n",
        "## Vorige keer:\n",
        "Vorige keer hebben wij variabelen bekeken: \n",
        "* strings\n",
        "* integers\n",
        "* floats\n",
        "\n",
        "Ook hebben wij de for-loop en de while-loop bekeken. Ook de if-statement (elif, else). \n",
        "\n",
        "Vandaag gaan we werken met lijsten. \n",
        "\n",
        "## Lijsten\n",
        "een lijst is een verzameling van variabelen,  op een bepaalde manier gestructureerd. Een lijst staat tussen haken: [ ]"
      ],
      "metadata": {
        "id": "48vytXRD8hYn"
      }
    },
    {
      "cell_type": "code",
      "execution_count": 12,
      "metadata": {
        "colab": {
          "base_uri": "https://localhost:8080/"
        },
        "id": "-fV5WOUt7HOi",
        "outputId": "79ee8b82-0a16-423b-f09f-d5e90d8299fd"
      },
      "outputs": [
        {
          "output_type": "stream",
          "name": "stdout",
          "text": [
            "['ECLI:NL:HR:2022:1234', '...hier de uitspraaktekst...']\n"
          ]
        }
      ],
      "source": [
        "# Een lege lijst is dan:\n",
        "lijst = []\n",
        "\n",
        "# En aan een lijst voegen we een element toe: \n",
        "lijst.append(1)\n",
        "lijst.append(2)\n",
        "lijst.append(3)\n",
        "lijst.append(4)\n",
        "lijst.append(5)\n",
        "\n",
        "# Een lijst kan ook lijsten bevatten. Je krijgt dan een twee dimensionale lijst:\n",
        "lijst2 = [[1,2,3], [4,5,6], [7,8,9]]\n",
        "\n",
        "# Maar een twee dimensionale lijst geef je vaak in meerdere regels weer: \n",
        "lijst2 = [[1,2,3], \n",
        "          [4,5,6], \n",
        "          [7,8,9]]\n",
        "\n",
        "# En zo kun je een lijst in een lijst in een lijst in een lijst maken: vier dimensies! Soms zelfs honderden dimensies, \n",
        "# je kunt je er geen voorstelling meer van maken. Maar denk aan een jpg-plaatje: \n",
        "# elke pixel heeft een x en een y-coordinaat. En elke pixel heeft drie kleuren rood, groen blauw\n",
        "# De lijst wordt dan: \n",
        "plaatje = [[[0,0], [150, 180, 138]], \n",
        "            [[0,1], [151, 181, 139]], \n",
        "            [[0,2], [152, 190, 140]], \n",
        "            [[0,3], [153, 191, 141]], \n",
        "            [[0,4], [154, 192, 142]],\n",
        "            # en zo voorts...\n",
        "            [[256,256], [120, 101, 205]\n",
        "            ]]\n",
        "# print(plaatje)\n",
        "\n",
        "# Maar lijsten hoeven niet altijd alleen integers te bevatten: \n",
        "lijstUitspraken = [[\"ECLI:NL:HR:2022:1234\", \"...hier de uitspraaktekst...\"],\n",
        "      [\"ECLI:NL:RBADAM:2023:12\", \"...hier de uitspraaktekst...\"],\n",
        "      [\"ECLI:NL:GHSHE:2020:34\", \"...hier de uitspraaktekst...\"]]\n",
        "\n",
        "# De for-loop werkt extra makkelijk met lijsten:\n",
        "# for uitspraak in lijstUitspraken:\n",
        "#     print(uitspraak[0][0])\n",
        "\n",
        "print(lijstUitspraken[0])\n"
      ]
    },
    {
      "cell_type": "markdown",
      "source": [
        "## Oefening:\n",
        "Print uit de lijst met het plaatje hierboven de waarde \"191\""
      ],
      "metadata": {
        "id": "hOHk1L4A_iGu"
      }
    },
    {
      "cell_type": "code",
      "source": [
        "print(plaatje[3][1][1])"
      ],
      "metadata": {
        "colab": {
          "base_uri": "https://localhost:8080/"
        },
        "id": "f4XKC8eVAFvH",
        "outputId": "72b53603-66c7-41e3-b059-2d5094941ebc"
      },
      "execution_count": 17,
      "outputs": [
        {
          "output_type": "stream",
          "name": "stdout",
          "text": [
            "191\n"
          ]
        }
      ]
    },
    {
      "cell_type": "markdown",
      "source": [
        "## Functies\n",
        "\n",
        "Een functie is een manier om code te automatiseren: Input --> bewerking --> eventueel: output. De output wordt gegeven met een return-commando. \n",
        "\n",
        "Je gebruikt functies om in een project meerdere bewerkingen één keer programmeren. "
      ],
      "metadata": {
        "id": "Fe1z3DOiAot_"
      }
    },
    {
      "cell_type": "code",
      "source": [
        "def mijnFunctie(x, y):\n",
        "    print(\"x is: \" + str(x) + \", y is: \" + str(y))\n",
        "    z = x * y\n",
        "    return z\n"
      ],
      "metadata": {
        "id": "xT_jCorcA4F1"
      },
      "execution_count": 20,
      "outputs": []
    },
    {
      "cell_type": "code",
      "source": [
        "uitkomst = mijnFunctie(5, 4)\n",
        "print(uitkomst)"
      ],
      "metadata": {
        "colab": {
          "base_uri": "https://localhost:8080/"
        },
        "id": "ypn5mzYUBouZ",
        "outputId": "37335008-2a75-428e-a8f0-5412b90a2702"
      },
      "execution_count": 22,
      "outputs": [
        {
          "output_type": "stream",
          "name": "stdout",
          "text": [
            "x is: 5, y is: 4\n",
            "20\n"
          ]
        }
      ]
    },
    {
      "cell_type": "markdown",
      "source": [
        "## Oefening: woorden tellen\n",
        "Uit hoeveel woorden bestaat deze zin: \n",
        "\"Deze zin is geschreven om te zien of jullie het aantal woorden in deze zin kunnen tellen.\""
      ],
      "metadata": {
        "id": "stoqQYKYCI9q"
      }
    },
    {
      "cell_type": "code",
      "source": [
        "tekst = \"Deze zin is geschreven om te zien of jullie het aantal woorden in deze zin kunnen tellen.\"\n",
        "aantalSpaties = tekst.count(\" \")\n",
        "aantalWoorden = aantalSpaties + 1\n",
        "print(aantalWoorden)"
      ],
      "metadata": {
        "colab": {
          "base_uri": "https://localhost:8080/"
        },
        "id": "3LqbsAGXCOYe",
        "outputId": "659ce100-4de4-4908-cc95-574539df7cba"
      },
      "execution_count": 24,
      "outputs": [
        {
          "output_type": "stream",
          "name": "stdout",
          "text": [
            "17\n"
          ]
        }
      ]
    },
    {
      "cell_type": "markdown",
      "source": [
        "## Regular expressions (Regex)\n",
        "Met regular expressions kun je de computer laten zoeken op tekstpatronen, dus niet alleen op trefwoorden. Het is een klein taaltje op zich, en heel leuk om te doen omdat het een beetje puzzelen is. Als je even niet uit een regex-code komt dan is de website http://regex101.com heel bruikbaar.\n",
        "\n",
        "Voorbeelden: een datum zoek je op: \\d{2,4}-\\d{2}-\\d{2,4}\n",
        "dit geeft als resultaat alle data met notatie 01-01-2022 terug als de datum 2022-01-01 (maar ook 202-01-01). \n",
        "\n",
        "Voor standaard-codes (zoals bijvoorbeeld een e-mailadres, die is nl. best ingewikkeld), kun je het beste even googelen.\n"
      ],
      "metadata": {
        "id": "RhD4znltDwu9"
      }
    },
    {
      "cell_type": "code",
      "source": [
        "import re\n",
        "tekst = \"Het is vandaag 13-02-2023, Dit is een zin om regexen te proberen, we gaan regexen naar het woord 'zin'.\"\n",
        "\n",
        "#regexen vervangen: \n",
        "nieuweTekst = re.sub(\"\\d{2}-\\d{2}-\\d{4}\", \"\", tekst)\n",
        "print(nieuweTekst)\n",
        "\n",
        "nt = tekst.replace(\"13-01-2023\", \"\")\n",
        "print(nt)\n",
        "\n",
        "#regexen zoeken (geeft een lijst terug): \n",
        "zoekresultaat = re.findall(\"zin\",tekst)\n",
        "\n",
        "print(zoekresultaat)"
      ],
      "metadata": {
        "colab": {
          "base_uri": "https://localhost:8080/"
        },
        "id": "lf48GGybFjCY",
        "outputId": "8b611734-e61e-43d1-e288-7253f28b066c"
      },
      "execution_count": 31,
      "outputs": [
        {
          "output_type": "stream",
          "name": "stdout",
          "text": [
            "Het is vandaag , Dit is een zin om regexen te proberen, we gaan regexen naar het woord 'zin'.\n",
            "Het is vandaag 13-02-2023, Dit is een zin om regexen te proberen, we gaan regexen naar het woord 'zin'.\n",
            "['zin', 'zin']\n"
          ]
        }
      ]
    },
    {
      "cell_type": "markdown",
      "source": [
        "# Een website scrapen\n",
        "Je kunt op verschillende manieren een website scrapen, als je weinig verstand hebt van html dan kun je het beste onze manier volgen. Maar een beetje moet je wel weten: \n",
        "* html (hypertext markup language) is de basistaal voor websites;\n",
        "* codes staan tussen vishaken: <>. Wat niet tussen vishaken staat is paginacontent. \n",
        "* Let op: Als je veel pagina's snel achter elkaar downloadt, dan kan de systeembeheerder je (automatisch) *blacklisten* (dus misschien moet je een vpn gebruiken);\n",
        "* Lang niet alle pagina's/sites kunnen met deze tool worden bekeken: als er cookies vereist zijn of als je moet inloggen dan wordt het al snel moeilijker;\n",
        "* andere methodes: beautifulsoup, selenium.\n",
        "* Voordag je gaat scrapen: ga naar de betreffende website (in chrome) en druk op F12;"
      ],
      "metadata": {
        "id": "PgsEbdhTKApA"
      }
    },
    {
      "cell_type": "code",
      "source": [
        "# We beginnen met het genereren van een lijst met alle pagina's van een website. Dat doen we door op de homepage te zoeken naar interne links.\\\n",
        "# vervolgens kijken we naar die interne links, enzovoort enzovoort.\n",
        "import re\n",
        "from urllib import request\n",
        "\n",
        "def paginaOpvragen(url):\n",
        "    try: \n",
        "        resp = request.urlopen(url)\n",
        "        html = resp.read().decode(\"UTF-8\")\n",
        "    except: \n",
        "        html = \"\"\n",
        "        print(\"downloaden is niet gelukt: \" + url)\n",
        "    return html\n",
        "\n"
      ],
      "metadata": {
        "id": "uk00AktOMAaf"
      },
      "execution_count": 32,
      "outputs": []
    },
    {
      "cell_type": "code",
      "source": [
        "links = []\n",
        "paginas = []\n",
        "eclis = []\n",
        "teller = 0\n",
        "paginas.append(\"https://coda-advocaten.nl\")"
      ],
      "metadata": {
        "id": "OvLGES1WNMBl"
      },
      "execution_count": 75,
      "outputs": []
    },
    {
      "cell_type": "code",
      "source": [
        "for p in paginas:\n",
        "    tekst = paginaOpvragen(p)\n",
        "    tags = re.findall('(<a href(.+?)coda-advocaten\\.nl(.+?)<\\/a>)', tekst)\n",
        "    for t in tags:\n",
        "            links.append(t[0])\n",
        "    eclisPagina = re.findall('ECLI:NL:\\w{2,10}:\\d{4}:[A-Za-z0-9]{1,8}', tekst)\n",
        "    for ecli in eclisPagina:\n",
        "        toeTeVoegen = p, ecli\n",
        "        eclis.append(toeTeVoegen)\n",
        "    teller = teller + 1"
      ],
      "metadata": {
        "colab": {
          "base_uri": "https://localhost:8080/"
        },
        "id": "6bLnEegaN-bh",
        "outputId": "a3aefa40-c83c-4a50-de2a-0ffa907326dc"
      },
      "execution_count": 89,
      "outputs": [
        {
          "output_type": "stream",
          "name": "stdout",
          "text": [
            "downloaden is niet gelukt: tel:+31630994309\n",
            "downloaden is niet gelukt: tel:+31624529898\n",
            "downloaden is niet gelukt: https://www.coda-advocaten.nl/tag/expositie/\n",
            "downloaden is niet gelukt: mailto:rd@coda-advocaten.nl\n",
            "downloaden is niet gelukt: mailto:mr@coda-advocaten.nl\n"
          ]
        }
      ]
    },
    {
      "cell_type": "code",
      "source": [
        "for l in links:\n",
        "    l = l.replace(\"<a href=\\\"\", \"\")\n",
        "    l = l[0:l.index(\"\\\"\")]\n",
        "    if l not in paginas:\n",
        "        paginas.append(l)\n",
        "    print(l)"
      ],
      "metadata": {
        "id": "wGNmuNE_O3f2"
      },
      "execution_count": null,
      "outputs": []
    },
    {
      "cell_type": "code",
      "source": [
        "for p in paginas:\n",
        "    print(p)"
      ],
      "metadata": {
        "colab": {
          "base_uri": "https://localhost:8080/"
        },
        "id": "E-ex0SiGSJSs",
        "outputId": "0a205557-8b4e-4349-80bd-b528b99fb046"
      },
      "execution_count": 97,
      "outputs": [
        {
          "output_type": "stream",
          "name": "stdout",
          "text": [
            "https://coda-advocaten.nl\n",
            "https://www.coda-advocaten.nl/\n",
            "https://www.coda-advocaten.nl/advocaten/\n",
            "https://www.coda-advocaten.nl/advocaten/mr-maarten-russchen/\n",
            "https://www.coda-advocaten.nl/advocaten/mr-raimond-dufour/\n",
            "https://www.coda-advocaten.nl/blogs-en-artikelen-van-coda-advocaten/\n",
            "https://www.coda-advocaten.nl/category/it-recht/\n",
            "https://www.coda-advocaten.nl/category/ecli-database/\n",
            "https://www.coda-advocaten.nl/category/centraal-insolventieregister/\n",
            "https://www.coda-advocaten.nl/category/ie-recht/\n",
            "https://www.coda-advocaten.nl/category/insolventierecht/\n",
            "https://www.coda-advocaten.nl/category/kunst-en-recht/\n",
            "https://www.coda-advocaten.nl/category/procederen/\n",
            "https://www.coda-advocaten.nl/category/nieuws/\n",
            "https://www.coda-advocaten.nl/algemene-voorwaarden-en-klachtenregeling/\n",
            "https://www.coda-advocaten.nl/contact/\n",
            "https://www.coda-advocaten.nl/tag/23-row/\n",
            "https://www.coda-advocaten.nl/tag/aanbesteding/\n",
            "https://www.coda-advocaten.nl/tag/aanhef/\n",
            "https://www.coda-advocaten.nl/tag/aantal-faillissementen/\n",
            "https://www.coda-advocaten.nl/tag/aantal-woorden/\n",
            "https://www.coda-advocaten.nl/tag/afspraken-vastleggen/\n",
            "https://www.coda-advocaten.nl/tag/afwikkelingssnelheid/\n",
            "https://www.coda-advocaten.nl/tag/airbnb/\n",
            "https://www.coda-advocaten.nl/tag/akkoord/\n",
            "https://www.coda-advocaten.nl/tag/algoritme/\n",
            "https://www.coda-advocaten.nl/tag/analyse/\n",
            "https://www.coda-advocaten.nl/tag/angst/\n",
            "https://www.coda-advocaten.nl/tag/atradius/\n",
            "https://www.coda-advocaten.nl/tag/auteur/\n",
            "https://www.coda-advocaten.nl/tag/auteurscontractenrecht/\n",
            "https://www.coda-advocaten.nl/tag/auteursrecht/\n",
            "https://www.coda-advocaten.nl/tag/auteursrechten/\n",
            "https://www.coda-advocaten.nl/tag/auteursrechthebbende/\n",
            "https://www.coda-advocaten.nl/tag/autotrack/\n",
            "https://www.coda-advocaten.nl/tag/backup/\n",
            "tel:+31630994309\n",
            "tel:+31624529898\n",
            "https://www.coda-advocaten.nl/tag/beslissing/\n",
            "https://www.coda-advocaten.nl/tag/boedelsaldo/\n",
            "https://www.coda-advocaten.nl/tag/centraal-insolventieregister/\n",
            "https://www.coda-advocaten.nl/tag/cir/\n",
            "https://www.coda-advocaten.nl/tag/concurrente/\n",
            "https://www.coda-advocaten.nl/tag/curator/\n",
            "https://www.coda-advocaten.nl/tag/dagvaarding/\n",
            "https://www.coda-advocaten.nl/tag/database/\n",
            "https://www.coda-advocaten.nl/tag/distributieovereenkomst/\n",
            "https://www.coda-advocaten.nl/tag/ecli/\n",
            "https://www.coda-advocaten.nl/tag/expositie/\n",
            "https://www.coda-advocaten.nl/tag/failimprove-nl/\n",
            "https://www.coda-advocaten.nl/tag/faillissement/\n",
            "https://www.coda-advocaten.nl/tag/faillissementen/\n",
            "https://www.coda-advocaten.nl/tag/faillissementsverslagen/\n",
            "https://www.coda-advocaten.nl/tag/fotoauteursrecht/\n",
            "https://www.coda-advocaten.nl/tag/handelsnaamrecht/\n",
            "https://www.coda-advocaten.nl/tag/kort-geding/\n",
            "https://www.coda-advocaten.nl/tag/licentie/\n",
            "https://www.coda-advocaten.nl/tag/mediarecht/\n",
            "https://www.coda-advocaten.nl/tag/merk/\n",
            "https://www.coda-advocaten.nl/tag/merkenrecht/\n",
            "https://www.coda-advocaten.nl/tag/muziekrecht/\n",
            "https://www.coda-advocaten.nl/tag/naburige-rechten/\n",
            "https://www.coda-advocaten.nl/tag/nlp/\n",
            "https://www.coda-advocaten.nl/tag/onbehoorlijk-bestuur/\n",
            "https://www.coda-advocaten.nl/tag/pauliana/\n",
            "https://www.coda-advocaten.nl/tag/procederen/\n",
            "https://www.coda-advocaten.nl/tag/publishing/\n",
            "https://www.coda-advocaten.nl/tag/rechtbank/\n",
            "https://www.coda-advocaten.nl/tag/rechter-commissaris/\n",
            "https://www.coda-advocaten.nl/tag/regex/\n",
            "https://www.coda-advocaten.nl/tag/schuldeisers/\n",
            "https://www.coda-advocaten.nl/tag/schuldenlast/\n",
            "https://www.coda-advocaten.nl/tag/sena/\n",
            "https://www.coda-advocaten.nl/tag/tekens/\n",
            "https://www.coda-advocaten.nl/tag/textmining/\n",
            "https://www.coda-advocaten.nl/tag/uitspraken/\n",
            "https://www.coda-advocaten.nl/tag/vereenvoudigde-afwikkeling/\n",
            "https://www.coda-advocaten.nl/tag/verificatievergadering/\n",
            "https://www.coda-advocaten.nl/tag/werknemers/\n",
            "https://www.coda-advocaten.nl/tag/woorden/\n",
            "https://www.coda-advocaten.nl/tag/wsnp/\n",
            "https://www.coda-advocaten.nl/contracteren-in-it/\n",
            "https://www.coda-advocaten.nl/software-ontwikkeling/\n",
            "https://www.coda-advocaten.nl/apps-bouwen/\n",
            "https://www.coda-advocaten.nl/databankrecht/\n",
            "https://www.coda-advocaten.nl/licenties/\n",
            "https://www.coda-advocaten.nl/distributiecontract/\n",
            "https://www.coda-advocaten.nl/houd-je-kroonjuwelen-buiten-het-faillissement-cursus-paulianeus-handelen/\n",
            "https://www.coda-advocaten.nl/de-positie-van-de-opdrachtgever-bij-softwareontwikkeling/\n",
            "https://www.coda-advocaten.nl/airbnb-het-dienen-van-twee-heren-uitspraak-kantonrechter/\n",
            "https://www.coda-advocaten.nl/appels-met-peren-vergelijken/\n",
            "https://www.coda-advocaten.nl/category/it-recht/page/2/\n",
            "https://www.coda-advocaten.nl/mantras-van-de-rechter/\n",
            "https://www.coda-advocaten.nl/wat-is-een-boxplot/\n",
            "https://www.coda-advocaten.nl/wat-zijn-regular-expressions-regexen/\n",
            "https://www.coda-advocaten.nl/gerechtelijke-grammatica/\n",
            "https://www.coda-advocaten.nl/leesbaarheid-van-uitspraken/\n",
            "https://www.coda-advocaten.nl/de-langste-zin-uit-2021/\n",
            "https://www.coda-advocaten.nl/woorden-en-tekens-tellen-in-gerechtelijke-uitspraken/\n",
            "https://www.coda-advocaten.nl/test-je-juridische-kennis/\n",
            "https://www.coda-advocaten.nl/sentimentanalyse-van-rechterlijke-uitspraken/\n",
            "https://www.coda-advocaten.nl/gerechtelijke-uitspraken-ontleed/\n",
            "https://www.coda-advocaten.nl/category/ecli-database/page/2/\n",
            "https://www.coda-advocaten.nl/its-official-we-hebben-een-trend/\n",
            "https://www.coda-advocaten.nl/nemen-de-faillissementen-weer-toe/\n",
            "https://www.coda-advocaten.nl/het-akkoord-in-de-wsnp/\n",
            "https://www.coda-advocaten.nl/download-alle-in-2022-uitgesproken-faillissementen/\n",
            "https://www.coda-advocaten.nl/wat-is-het-insolventieregister/\n",
            "https://www.coda-advocaten.nl/download-een-lijst-van-alle-per-6-mei-2022-lopende-faillissementen-in-nederland/\n",
            "https://www.coda-advocaten.nl/door-de-curator-c-s-gewerkte-uren-en-salaris/\n",
            "https://www.coda-advocaten.nl/wat-is-de-impact-van-corona-op-de-faillissementen/\n",
            "https://www.coda-advocaten.nl/bancaire-vorderingen-in-faillissementen/\n",
            "https://www.coda-advocaten.nl/de-fiscale-vorderingen-en-het-fiscale-preferentiestelsel-in-faillissementen/\n",
            "https://www.coda-advocaten.nl/category/centraal-insolventieregister/page/2/\n",
            "https://www.coda-advocaten.nl/hoge-raad-martin-garrix-spinnin/\n",
            "https://www.coda-advocaten.nl/hvj-eu-haalt-streep-door-sena-uitkering-voor-muziek-in-audio-visuele-werken/\n",
            "https://www.coda-advocaten.nl/a-care/\n",
            "https://www.coda-advocaten.nl/contracten/\n",
            "https://www.coda-advocaten.nl/schadevergoeding/\n",
            "https://www.coda-advocaten.nl/naburige-rechten/\n",
            "https://www.coda-advocaten.nl/publishing/\n",
            "https://www.coda-advocaten.nl/uitgaveovereenkomst/\n",
            "https://www.coda-advocaten.nl/portretrecht/\n",
            "https://www.coda-advocaten.nl/overdracht/\n",
            "https://www.coda-advocaten.nl/category/ie-recht/page/2/\n",
            "https://www.coda-advocaten.nl/in-de-wsnp-bied-een-akkoord-aan/\n",
            "https://www.coda-advocaten.nl/hoe-kan-ik-mijn-vorderingen-indienen-aanmelden-ter-verificatie/\n",
            "https://www.coda-advocaten.nl/wat-is-vereenvoudigde-afwikkeling-van-een-faillissement/\n",
            "https://www.coda-advocaten.nl/wat-is-een-verificatievergadering/\n",
            "https://www.coda-advocaten.nl/opheffing-bij-gebrek-aan-baten/\n",
            "https://www.coda-advocaten.nl/hoe-lang-duurt-een-faillissement/\n",
            "https://www.coda-advocaten.nl/wat-kan-ik-doen-als-ik-een-klacht-heb-over-de-faillissementscurator/\n",
            "https://www.coda-advocaten.nl/europese-hof-geeft-ruim-baan-aan-creatieve-sampling/\n",
            "https://www.coda-advocaten.nl/publishing-inkomsten-muziek-onder-tv-programma/\n",
            "https://www.coda-advocaten.nl/de-stradivarius-van-eugene-fodor/\n",
            "https://www.coda-advocaten.nl/het-gedijen-van-gestolen-goed/\n",
            "https://www.coda-advocaten.nl/contracten-martin-garrix-spinnin-vernietigd-wegens-dwaling/\n",
            "https://www.coda-advocaten.nl/music-publishing-hr-nanada-golden-earring/\n",
            "https://www.coda-advocaten.nl/rechtenvrije-muziek-bestaat-niet/\n",
            "https://www.coda-advocaten.nl/tarieven-live-muziek/\n",
            "https://www.coda-advocaten.nl/deelname-idols-bezint-eer-ge-begint/\n",
            "https://www.coda-advocaten.nl/nieuwe-mogelijkheden-om-op-te-treden-tegen-onredelijke-contracten/\n",
            "https://www.coda-advocaten.nl/category/kunst-en-recht/page/2/\n",
            "https://www.coda-advocaten.nl/dwangsom/\n",
            "https://www.coda-advocaten.nl/executiegeschil/\n",
            "https://www.coda-advocaten.nl/dagvaarding/\n",
            "https://www.coda-advocaten.nl/comparitie/\n",
            "https://www.coda-advocaten.nl/bodemprocedure-vs-kort-geding/\n",
            "https://www.coda-advocaten.nl/beslag/\n",
            "https://www.coda-advocaten.nl/domeinnaamgeschillen/\n",
            "https://www.coda-advocaten.nl/corona-exploit/\n",
            "https://www.coda-advocaten.nl/category/procederen/page/2/\n",
            "https://www.coda-advocaten.nl/mogen-fotos-die-op-facebook-zijn-geplaatst-worden-hergebruikt/\n",
            "https://www.coda-advocaten.nl/aanbesteding-multimedia-erasmus-mc/\n",
            "https://www.coda-advocaten.nl/piet-piraat-pret-piraat/\n",
            "https://www.coda-advocaten.nl/kantoorverhuizing-naar-de-nieuwe-stad/\n",
            "https://www.coda-advocaten.nl/hoog-laag-btw-tarief/\n",
            "https://www.coda-advocaten.nl/gastcollege-artez/\n",
            "https://www.coda-advocaten.nl/geruzie-over-ventoux3/\n",
            "https://www.coda-advocaten.nl/category/nieuws/page/2/\n",
            "mailto:rd@coda-advocaten.nl\n",
            "mailto:mr@coda-advocaten.nl\n",
            "https://www.coda-advocaten.nl/schaatsoctrooi-van-raps-hersteld/\n",
            "https://www.coda-advocaten.nl/tellen/\n",
            "https://www.coda-advocaten.nl/de-faillissementspraktijk-in-2017-en-2018/\n",
            "https://www.coda-advocaten.nl/doorstart-van-faillissementen/\n",
            "https://www.coda-advocaten.nl/verwijzingen/\n",
            "https://www.coda-advocaten.nl/ontbinding-publishing-overeenkomst/\n",
            "https://www.coda-advocaten.nl/reposten-van-content/\n",
            "https://www.coda-advocaten.nl/tag/auteursrecht/page/2/\n",
            "https://www.coda-advocaten.nl/niet-werkende-backup/\n",
            "https://www.coda-advocaten.nl/de-faillissementen-van-2016/\n",
            "https://www.coda-advocaten.nl/onbehoorlijk-bestuur-en-paulianeus-handelen/\n",
            "https://www.coda-advocaten.nl/the-rc-the-curator-and-the-kpi/\n",
            "https://www.coda-advocaten.nl/de-ecli-database-van-rechtspraak-nl/\n",
            "https://www.coda-advocaten.nl/tag/faillissement/page/2/\n",
            "https://www.coda-advocaten.nl/ecemed-maakt-geen-inbreuk-op-ecem/\n",
            "https://www.coda-advocaten.nl/vergoeding-kosten-rechtsbijstand-art-6-hnw/\n",
            "https://www.coda-advocaten.nl/spoedeisend-belang/\n",
            "https://www.coda-advocaten.nl/onrechtmatige-cartoon/\n",
            "https://www.coda-advocaten.nl/doodsbedreiging-in-rap-tekst/\n",
            "https://www.coda-advocaten.nl/nogmaals-pas-op-voor-nep-facturen-na-merkregistratie/\n",
            "https://www.coda-advocaten.nl/normaal-gebruik-van-gemeenschapsmerk/\n",
            "https://www.coda-advocaten.nl/winstafdracht-na-inbreuk/\n",
            "https://www.coda-advocaten.nl/vergelijkende-reclame-zonder-naam-concurrent-te-noemen/\n",
            "https://www.coda-advocaten.nl/belastingen-live-muziek/\n",
            "https://www.coda-advocaten.nl/afrekening-royalties-net-profit/\n",
            "https://www.coda-advocaten.nl/tag/contracteren/\n",
            "https://www.coda-advocaten.nl/tag/mislukt-itproject/\n",
            "https://www.coda-advocaten.nl/tag/databank/\n",
            "https://www.coda-advocaten.nl/tag/databankenrecht/\n",
            "https://www.coda-advocaten.nl/tag/gegevensverzameling/\n",
            "https://www.coda-advocaten.nl/tag/innoweb/\n",
            "https://www.coda-advocaten.nl/tag/wegener/\n",
            "https://www.coda-advocaten.nl/tag/licentieovereenkomst/\n",
            "https://www.coda-advocaten.nl/tag/merkenregister/\n",
            "https://www.coda-advocaten.nl/tag/rechthebbende/\n",
            "https://www.coda-advocaten.nl/tag/verbodsrechten/\n",
            "https://www.coda-advocaten.nl/tag/beeindiging/\n",
            "https://www.coda-advocaten.nl/tag/consignatie/\n",
            "https://www.coda-advocaten.nl/tag/mededinging/\n",
            "https://www.coda-advocaten.nl/tag/merklicentie/\n",
            "https://www.coda-advocaten.nl/tag/reproducties/\n",
            "https://www.coda-advocaten.nl/tag/handelsnaam/\n",
            "https://www.coda-advocaten.nl/wp-content/uploads/2020/04/Stubhub.png\n",
            "https://www.coda-advocaten.nl/tag/it-recht/\n",
            "https://www.coda-advocaten.nl/tag/opdrachtgever/\n",
            "https://www.coda-advocaten.nl/tag/software/\n",
            "https://www.coda-advocaten.nl/tag/dienen-van-twee-heren/\n",
            "https://www.coda-advocaten.nl/tag/uitspraak/\n",
            "https://www.coda-advocaten.nl/wetswijzigingen-voor-webshops-levering-digitale-inhoud/\n",
            "https://www.coda-advocaten.nl/wp-content/uploads/2022/11/221118-mantras.xlsx\n",
            "https://www.coda-advocaten.nl/tag/reguliere-expressie/\n",
            "https://www.coda-advocaten.nl/tag/tekstpatroon/\n",
            "https://www.coda-advocaten.nl/tag/trefwoord/\n",
            "https://www.coda-advocaten.nl/tag/bijlage/\n",
            "https://www.coda-advocaten.nl/tag/gerechtelijke-grammatica/\n",
            "https://www.coda-advocaten.nl/tag/legalisatie/\n",
            "https://www.coda-advocaten.nl/tag/overwegingen/\n",
            "https://www.coda-advocaten.nl/tag/data/\n",
            "https://www.coda-advocaten.nl/tag/klaretaal/\n",
            "https://www.coda-advocaten.nl/tag/zinnen/\n",
            "https://www.coda-advocaten.nl/tag/langste-zin/\n",
            "https://www.coda-advocaten.nl/tag/zin/\n",
            "https://www.coda-advocaten.nl/tag/bag-of-words/\n",
            "https://www.coda-advocaten.nl/tag/bestuursrecht/\n",
            "https://www.coda-advocaten.nl/tag/blijdschap/\n",
            "https://www.coda-advocaten.nl/tag/boosheid/\n",
            "https://www.coda-advocaten.nl/tag/civiel-recht/\n",
            "https://www.coda-advocaten.nl/tag/connotatie/\n",
            "https://www.coda-advocaten.nl/tag/emoties/\n",
            "https://www.coda-advocaten.nl/tag/negatief/\n",
            "https://www.coda-advocaten.nl/tag/positief/\n",
            "https://www.coda-advocaten.nl/tag/sentimentanalyse/\n",
            "https://www.coda-advocaten.nl/tag/strafrecht/\n",
            "https://www.coda-advocaten.nl/tag/verdriet/\n",
            "https://www.coda-advocaten.nl/tag/verrassing/\n",
            "https://www.coda-advocaten.nl/tag/vertrouwen/\n",
            "https://www.coda-advocaten.nl/tag/verwachting/\n",
            "https://www.coda-advocaten.nl/tag/walging/\n",
            "https://www.coda-advocaten.nl/tag/woede/\n",
            "https://www.coda-advocaten.nl/tag/beoordeling/\n",
            "https://www.coda-advocaten.nl/tag/regular-expressions/\n",
            "https://www.coda-advocaten.nl/tag/voorwerk/\n",
            "https://www.coda-advocaten.nl/tag/bedrijfsfaillissementen/\n",
            "https://www.coda-advocaten.nl/tag/belastingdienst/\n",
            "https://www.coda-advocaten.nl/tag/fiscale-schuldenlast/\n",
            "https://www.coda-advocaten.nl/tag/recovery-rate/\n",
            "https://www.coda-advocaten.nl/tag/quorum/\n",
            "https://www.coda-advocaten.nl/tag/quotum/\n",
            "https://www.coda-advocaten.nl/tag/schuldsaneringsregeling-voor-natuurlijke-personen/\n",
            "https://www.coda-advocaten.nl/tag/surseance-van-betaling/\n",
            "https://www.coda-advocaten.nl/tag/wetsvoorstel/\n",
            "https://www.coda-advocaten.nl/tag/whoa/\n",
            "https://www.coda-advocaten.nl/wp-content/uploads/2022/06/lopendeFaillissementen-1-2.xlsx\n",
            "https://www.coda-advocaten.nl/tag/boedel/\n",
            "https://www.coda-advocaten.nl/tag/salaris-curator/\n",
            "https://www.coda-advocaten.nl/tag/corona/\n",
            "https://www.coda-advocaten.nl/tag/covid/\n",
            "https://www.coda-advocaten.nl/tag/oorzaak-faillissement/\n",
            "https://www.coda-advocaten.nl/tag/bancaire-vordering/\n",
            "https://www.coda-advocaten.nl/tag/bank/\n",
            "https://www.coda-advocaten.nl/tag/belastingscshuld/\n",
            "https://www.coda-advocaten.nl/tag/fiscale-vorderingen/\n",
            "https://www.coda-advocaten.nl/tag/preferentie/\n",
            "https://www.coda-advocaten.nl/tag/preferentiestelsel/\n",
            "https://www.coda-advocaten.nl/tag/preferentiestelselwijziging/\n",
            "https://www.coda-advocaten.nl/werknemers-insolvente-bedrijven-kanarie-in-de-kolenmijn/\n",
            "https://www.coda-advocaten.nl/tag/componist/\n",
            "https://www.coda-advocaten.nl/tag/contract/\n",
            "https://www.coda-advocaten.nl/tag/geheimhoudingsovereenkomst/\n",
            "https://www.coda-advocaten.nl/tag/muzieksector/\n",
            "https://www.coda-advocaten.nl/tag/nda/\n",
            "https://www.coda-advocaten.nl/tag/ontwerper/\n",
            "https://www.coda-advocaten.nl/tag/overdrachtsakte/\n",
            "https://www.coda-advocaten.nl/tag/overeenkomst/\n",
            "https://www.coda-advocaten.nl/tag/softwareontwikkelingsovereenkomst/\n",
            "https://www.coda-advocaten.nl/tag/vaststellingsovereenkomst/\n",
            "https://www.coda-advocaten.nl/tag/inbreuk/\n",
            "https://www.coda-advocaten.nl/tag/intellectuele-eigendomsrechten/\n",
            "https://www.coda-advocaten.nl/tag/naamsvermelding/\n",
            "https://www.coda-advocaten.nl/tag/pictoright/\n",
            "https://www.coda-advocaten.nl/tag/schade/\n",
            "https://www.coda-advocaten.nl/tag/schadevergoeding/\n",
            "https://www.coda-advocaten.nl/tag/stichting-foto-anoniem/\n",
            "https://www.coda-advocaten.nl/auteursrecht/\n",
            "https://www.coda-advocaten.nl/tag/fonogram/\n",
            "https://www.coda-advocaten.nl/tag/geluidsopnamen/\n",
            "https://www.coda-advocaten.nl/tag/master/\n",
            "https://www.coda-advocaten.nl/tag/reproductie/\n",
            "https://www.coda-advocaten.nl/tag/uitgeversrechten/\n",
            "https://www.coda-advocaten.nl/strategie-handhaving/\n",
            "https://www.coda-advocaten.nl/modellenrecht/\n",
            "https://www.coda-advocaten.nl/handelsnaamrecht/\n",
            "https://www.coda-advocaten.nl/handhaving/\n",
            "https://www.coda-advocaten.nl/gemeenschapsmerk/\n",
            "https://www.coda-advocaten.nl/faillissement-en-ie-rechten/\n",
            "https://www.coda-advocaten.nl/exclusiviteit/\n",
            "https://www.coda-advocaten.nl/category/ie-recht/page/3/\n",
            "https://www.coda-advocaten.nl/tag/bewindvoerder/\n",
            "https://www.coda-advocaten.nl/tag/dwangakkoord/\n",
            "https://www.coda-advocaten.nl/tag/homologatie/\n",
            "https://www.coda-advocaten.nl/tag/betwisting/\n",
            "https://www.coda-advocaten.nl/tag/indienen-ter-verificatie/\n",
            "https://www.coda-advocaten.nl/tag/pandrecht/\n",
            "https://www.coda-advocaten.nl/tag/prefereente/\n",
            "https://www.coda-advocaten.nl/tag/utdeling/\n",
            "https://www.coda-advocaten.nl/tag/voorrang/\n",
            "https://www.coda-advocaten.nl/tag/voorrecht/\n",
            "https://www.coda-advocaten.nl/tag/vordering/\n",
            "https://www.coda-advocaten.nl/tag/schuldeiser/\n",
            "https://www.coda-advocaten.nl/tag/uitdelingslijst/\n",
            "https://web.archive.org/web/20170823013805/http://schuldeisersbelang.nl/vraag-en-antwoord/verificatie-van-vorderingen/\n",
            "https://www.coda-advocaten.nl/tag/preferente/\n",
            "https://www.coda-advocaten.nl/tag/pro-forma/\n",
            "https://www.coda-advocaten.nl/tag/renvooiprocedure/\n",
            "https://www.coda-advocaten.nl/tag/boedelschulden/\n",
            "https://www.coda-advocaten.nl/tag/gebrek-aan-baten/\n",
            "https://www.coda-advocaten.nl/tag/opheffing/\n",
            "https://www.coda-advocaten.nl/tag/uitkering/\n",
            "https://www.coda-advocaten.nl/tag/beleid/\n",
            "https://www.coda-advocaten.nl/tag/termijn/\n",
            "https://www.coda-advocaten.nl/tag/deken/\n",
            "https://www.coda-advocaten.nl/tag/handelwijze/\n",
            "https://www.coda-advocaten.nl/tag/insolad/\n",
            "https://www.coda-advocaten.nl/tag/klacht/\n",
            "https://www.coda-advocaten.nl/tag/mediation/\n",
            "https://www.coda-advocaten.nl/tag/orde-van-advocaten/\n",
            "https://www.coda-advocaten.nl/tag/r-c/\n",
            "https://www.coda-advocaten.nl/tag/tuchtrecht/\n",
            "https://www.coda-advocaten.nl/tag/verzoek/\n",
            "https://www.coda-advocaten.nl/wp-content/uploads/2020/01/Picture-1.png\n",
            "https://www.coda-advocaten.nl/tag/sampling/\n",
            "https://www.coda-advocaten.nl/tag/muziekuitgave/\n",
            "https://www.coda-advocaten.nl/tag/sync-rechten/\n",
            "https://www.coda-advocaten.nl/tag/synchronisatie/\n",
            "https://www.coda-advocaten.nl/tag/eigendomsrecht/\n",
            "https://www.coda-advocaten.nl/tag/goederenrecht/\n",
            "https://www.coda-advocaten.nl/tag/machold/\n",
            "https://www.coda-advocaten.nl/tag/melchers/\n",
            "https://www.coda-advocaten.nl/tag/stradivarius/\n",
            "https://www.coda-advocaten.nl/tag/viool/\n",
            "https://www.coda-advocaten.nl/tag/zwendel/\n",
            "https://www.coda-advocaten.nl/tag/eigendom/\n",
            "https://www.coda-advocaten.nl/tag/huberman/\n",
            "https://www.coda-advocaten.nl/tag/joshua-bell/\n",
            "https://www.coda-advocaten.nl/tag/spinnin-martin-garricx-muziekbusiness-musicbiz-platencontract/\n",
            "https://www.coda-advocaten.nl/tag/buma-stemra/\n",
            "https://www.coda-advocaten.nl/tag/entertainmentrecht/\n",
            "https://www.coda-advocaten.nl/tag/royalties/\n",
            "https://www.coda-advocaten.nl/tag/betekening/\n",
            "https://www.coda-advocaten.nl/tag/dwangsom/\n",
            "https://www.coda-advocaten.nl/tag/executie/\n",
            "https://www.coda-advocaten.nl/tag/verbod/\n",
            "https://www.coda-advocaten.nl/tag/veroordeelde/\n",
            "https://www.coda-advocaten.nl/tag/bodemprocedure/\n",
            "https://www.coda-advocaten.nl/tag/gedaagde/\n",
            "https://www.coda-advocaten.nl/tag/rolzitting/\n",
            "https://www.coda-advocaten.nl/wp-content/uploads/2020/03/Corona-betekening-exploit.png\n",
            "https://www.coda-advocaten.nl/tag/deurwaarder/\n",
            "https://www.coda-advocaten.nl/tag/ie-recht/\n",
            "https://www.coda-advocaten.nl/handelsnaam-online-perikelen/\n",
            "https://www.coda-advocaten.nl/gratis-mobieltje-is-koop-op-afbetaling/\n",
            "https://www.coda-advocaten.nl/wat-is-een-parodie/\n",
            "https://www.coda-advocaten.nl/artiestenverloning-nl-vs-artiestenverloningen-nl/\n",
            "https://www.coda-advocaten.nl/verwijderen-zoekresultaten/\n",
            "https://www.coda-advocaten.nl/category/nieuws/page/3/\n",
            "https://www.coda-advocaten.nl/tag/octrooirecht/\n",
            "https://www.coda-advocaten.nl/tag/flesch/\n",
            "https://www.coda-advocaten.nl/tag/leesbaarheid/\n",
            "https://www.coda-advocaten.nl/tag/leesniveau/\n",
            "https://www.coda-advocaten.nl/tag/metadata/\n",
            "https://www.coda-advocaten.nl/tag/preprocessing/\n",
            "https://www.coda-advocaten.nl/tag/tellen/\n",
            "https://www.coda-advocaten.nl/tag/beeindigingswijze/\n",
            "https://www.coda-advocaten.nl/tag/natuurlijk-personen/\n",
            "https://www.coda-advocaten.nl/tag/rechtspersonen/\n",
            "https://www.coda-advocaten.nl/tag/doorstart/\n",
            "https://www.coda-advocaten.nl/tag/gemiddelde/\n",
            "https://www.coda-advocaten.nl/tag/machinelearning/\n",
            "https://www.coda-advocaten.nl/tag/mediaan/\n",
            "https://www.coda-advocaten.nl/tag/omvang-faillissement/\n",
            "https://www.coda-advocaten.nl/tag/instantie/\n",
            "https://www.coda-advocaten.nl/tag/jurisprudentie/\n",
            "https://www.coda-advocaten.nl/tag/rechtsgebied/\n",
            "https://www.coda-advocaten.nl/tag/verwijzingen/\n",
            "https://www.coda-advocaten.nl/wp-content/uploads/2019/12/reposten-.png\n",
            "https://www.coda-advocaten.nl/inbreng-intellectuele-eigendomsrechten-in-vennootschap/\n",
            "https://www.coda-advocaten.nl/tag/auteursrecht/page/3/\n",
            "https://www.coda-advocaten.nl/tag/it-leverancier/\n",
            "https://www.coda-advocaten.nl/tag/zorgverplichting/\n"
          ]
        }
      ]
    },
    {
      "cell_type": "code",
      "source": [
        "for e in eclis:\n",
        "    print(e)"
      ],
      "metadata": {
        "id": "cqQxSah0YP_w"
      },
      "execution_count": null,
      "outputs": []
    }
  ]
}