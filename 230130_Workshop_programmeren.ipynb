{
  "nbformat": 4,
  "nbformat_minor": 0,
  "metadata": {
    "colab": {
      "provenance": [],
      "toc_visible": true,
      "authorship_tag": "ABX9TyMUagNRh6yGsFqv+Qgq33yJ",
      "include_colab_link": true
    },
    "kernelspec": {
      "name": "python3",
      "display_name": "Python 3"
    },
    "language_info": {
      "name": "python"
    }
  },
  "cells": [
    {
      "cell_type": "markdown",
      "metadata": {
        "id": "view-in-github",
        "colab_type": "text"
      },
      "source": [
        "<a href=\"https://colab.research.google.com/github/RaimondDufour/workshopProgrammeren-/blob/main/230130_Workshop_programmeren.ipynb\" target=\"_parent\"><img src=\"https://colab.research.google.com/assets/colab-badge.svg\" alt=\"Open In Colab\"/></a>"
      ]
    },
    {
      "cell_type": "markdown",
      "source": [
        "#Beginnersworkshop programmeren voor juristen\n",
        "\n",
        "##Programma:\n",
        "* We gaan beginnen!\n",
        "  - google naar \"colab\", url: http://colab.research.google.com\n",
        "  - open een nieuw notebook\n",
        "* Doel van de workshop: een eenvoudige webpagina scrapen (uitspraak?) en de tekst opslaan, analyseren etc.\n",
        "\n",
        "\n",
        "\n",
        "\n"
      ],
      "metadata": {
        "id": "BUlc1cU8WBoB"
      }
    },
    {
      "cell_type": "markdown",
      "source": [
        "##Python\n",
        "* Python wordt beschouwd als een goede \"instaptaal\", na Java de meest gebruikte computertaal. Ontwikkeld door een Nederlander! (Guido van Rossum);\n",
        "* Als je een taal kent, dan is het leren van de volgende taal makkelijker: ongeveer alles wat vandaag aan de orde komt geldt ook voor andere talen (alleen is de *syntaxis* anders);\n",
        "* Python: vereist is installatie van de taal en de IDE (Integrated Development Environment);\n",
        "* Python kijkt alleen naar de tekst, de IDE ook naar de syntaxis en helpt je om je eigen code zo goed mogelijk te schrijven en te begrijpen;\n",
        "* Colabs heeft beide: je zit op een computer van Google te programmeren.\n",
        "* je kunt Python en een IDE ook lokaal op je computer integreren (google: \"install anaconda windows\"). Goede IDE's zijn: Visual Studio Code en PyCharm (die komen met Anaconda).\n",
        "* Hulptroepen:\n",
        "    - Google is je beste vriend! (en vergeet youtube niet), zoek op python en onderwerp;\n",
        "    - Stackoverflow: http://stackoverflow.com \n",
        "    - sinds kort: ChatGPT: http://chat.openai.com/\n",
        "    - cheatsheets: https://github.com/ehmatthes/pcc/releases/download/v1.0.0/beginners_python_cheat_sheet_pcc_all.pdf\n",
        "\n",
        "### Python is doen doen doen: alleen de workshop meekijken is niet genoeg, codeer zelf mee!"
      ],
      "metadata": {
        "id": "QGU7aRao2ueY"
      }
    },
    {
      "cell_type": "markdown",
      "source": [
        "##Coderen\n",
        "* In Google Colabs: \n",
        "  - verander de naam van je bestand, maar houd de extensie .ipynb;\n",
        "  - maak een chunk aan: code of tekst. Tekst is een tekstverwerker, in de code wordt daadwerkelijk geprogrammeerd;\n",
        "\n",
        "* Tips:\n",
        "  - Wees altijd gestructureerd in je code: code wordt vaker gelezen dan gebruikt, goede code leest als poezie\n",
        "  - DRY: do not repeat yourself\n",
        "  - Gebruik sneltoetsen! \n",
        "  - als je je al iets comfortabeler voelt in het programmeren: zoek eens op youtube naar python tips: dit boost je leercurve."
      ],
      "metadata": {
        "id": "626JpVbA4_Ca"
      }
    },
    {
      "cell_type": "markdown",
      "source": [
        "## Je eerste code\n",
        "De code in een chunk wordt pas verwerkt als je de chunk \"afspeelt\": de play-knop of ctrl+enter. De eerste keer kan het even duren: de browser moet verbinding maken met de Google-computer (zie rechtsboven), de \"Runtime\". Loopt er iets vast? Start de Runtime opnieuw (zie menu Runtime)"
      ],
      "metadata": {
        "id": "UpjWP-2z51Z8"
      }
    },
    {
      "cell_type": "code",
      "source": [
        "print(\"Hallo Wereld!\")\n"
      ],
      "metadata": {
        "colab": {
          "base_uri": "https://localhost:8080/"
        },
        "id": "iRJKPEBp591o",
        "outputId": "785dc51f-3410-45fd-c91e-4750ea86376b"
      },
      "execution_count": 2,
      "outputs": [
        {
          "output_type": "stream",
          "name": "stdout",
          "text": [
            "Hallo Wereld!\n"
          ]
        }
      ]
    },
    {
      "cell_type": "markdown",
      "source": [
        "## Een paar weetjes:\n",
        "* In de code-chunks vindt het programmeren plaats;\n",
        "* *uitcommentarieren*: het plaatsen van een opmerking in de code-chunk of het uitschakelen van een code-regel (ctrl+/);\n",
        "* Je kunt code per chunk afspelen. Dat is handig bij het *debuggen*: het oplossen van fouten in code;\n",
        "* als er een fout in de code staat, dan stopt de uitvoering bij die fout;\n",
        "* variabelen zijn zichtbaar aan de linkerkant bij {x};\n",
        "* het uitvoeren van code gebeurt op de achtergrond, je moet de computer instrueren om tijdens het uitvoeren iets te laten zien;\n",
        "* printen: geef output weer in de console: vooral belangrijk voor volgen van de code tijdens de uitvoering. "
      ],
      "metadata": {
        "id": "XPDOCdzu6fxc"
      }
    },
    {
      "cell_type": "code",
      "source": [
        "# ik kan hier schrijven wat ik wil. Met dit commando schrijf je iets in de console:\n",
        "# print(\"Hallo Wereld!\") # \n",
        "\n",
        "Een rode kringel: dat betekent een fout. Hover over de kringel en je krijgt de foutmelding. \n",
        "\n",
        "print(2 + 5 \n"
      ],
      "metadata": {
        "colab": {
          "base_uri": "https://localhost:8080/",
          "height": 135
        },
        "id": "aLRR7IeZ7FZn",
        "outputId": "dcae438c-efe3-4b84-e2b0-58cb37093bb8"
      },
      "execution_count": 3,
      "outputs": [
        {
          "output_type": "error",
          "ename": "SyntaxError",
          "evalue": "ignored",
          "traceback": [
            "\u001b[0;36m  File \u001b[0;32m\"<ipython-input-3-9045bf9001fa>\"\u001b[0;36m, line \u001b[0;32m4\u001b[0m\n\u001b[0;31m    Een rode kringel: dat betekent een fout. Hover over de kringel en je krijgt de foutmelding.\u001b[0m\n\u001b[0m        ^\u001b[0m\n\u001b[0;31mSyntaxError\u001b[0m\u001b[0;31m:\u001b[0m invalid syntax\n"
          ]
        }
      ]
    },
    {
      "cell_type": "markdown",
      "source": [
        "# Coderen"
      ],
      "metadata": {
        "id": "Pn8K0tSg7-Y3"
      }
    },
    {
      "cell_type": "markdown",
      "source": [
        "## Variabelen\n",
        "Variabelen zijn stukjes geheugen in de computer die een naam hebben. \n",
        "\n",
        "\n",
        "\n"
      ],
      "metadata": {
        "id": "Ljtkp5H38Au8"
      }
    },
    {
      "cell_type": "code",
      "source": [
        "# De eerste variabele is een string: een stukje tekst. Die staan tussen enkele of dubbele aanhalingstekens: \"\" of ''. \n",
        "a = \"Hallo wereld!\"\n",
        "# Een string mag ook lang zijn! \n",
        "print(a)\n",
        "\n",
        "# De tweede variabele is een integer (int): een getal zonder komma:\n",
        "b = 5\n",
        "print(b)\n",
        "\n",
        "# De derde variabele is een float:\n",
        "c = 3.1415\n",
        "# Let op: schrijf integers en floats niet tussen aanhalingstekens! (want dan denkt de computer dat het een string is)\n",
        "print(c)\n",
        "\n",
        "# Je kunt vragen om het type variabele:\n",
        "print(type(a))\n",
        "print(type(b))\n",
        "print(type(c))\n",
        "\n",
        "# je kunt variabelen aanpassen\n",
        "b = b + 5\n",
        "print(b)\n",
        "# of\n",
        "d = b + c\n",
        "print(d)\n",
        "\n",
        "# Strings optellen geeft 'aan elkaar plakken': concatenate \n",
        "# Integers en floats opteller geeft de som.\n",
        "# Voorbeeld:\n",
        "print(a + \" En dit is de tweede string.\") \n",
        "\n",
        "# maar een string bij een integer/float optellen lukt niet:\n",
        "# print(a + b)\n",
        "# om dat op te lossen, moet je converteren\n",
        "\n",
        "# Er zijn nog veel meer ingebouwde variabelen\n",
        "# veel fouten ontstaan doordat je het verkeerde datatype gebruikt! \n",
        "# Variabelen zijn dus zichtbaar aan de linkerkant bij {x}"
      ],
      "metadata": {
        "id": "CvPh0fDv8Hv8"
      },
      "execution_count": null,
      "outputs": []
    },
    {
      "cell_type": "markdown",
      "source": [
        "## Oefening: converteren.\n",
        "* een variabele x zet je om naar een string: str(x)\n",
        "* een variabele x zet je om naar een integer: int(x)\n",
        "* een variabele x zet je om naar een float: float(x)\n",
        "\n",
        "**probeer:**\n",
        "* een int om te zetten naar een string (variabele b), noem hem variabele e;\n",
        "* een float om te zetten naar een int (variabele c), noem hem variabele f;\n",
        "* een string om te zetten naar een int (een eigen variabele), noem hem variabele g;"
      ],
      "metadata": {
        "id": "g-rbcN_e_0hW"
      }
    },
    {
      "cell_type": "code",
      "source": [
        "e = str(b)\n",
        "print(a + e)\n",
        "\n",
        "f = int(c)\n",
        "print(f + c)\n",
        "\n",
        "g = int(\"5\")\n",
        "print (b+g)\n",
        "\n",
        "h = 3.7\n",
        "i=int(h)\n",
        "print(i)"
      ],
      "metadata": {
        "id": "MUajBvpt8aTk"
      },
      "execution_count": null,
      "outputs": []
    },
    {
      "cell_type": "code",
      "source": [
        "# Nog even terug naar de string:\n",
        "tekst = \"Hoera dit is string 1\"\n",
        "\n",
        "# het eerste teken is: \n",
        "print(tekst[10])\n",
        "# want we tellen vanaf 0!\n",
        "\n",
        "# de eerste vijf tekens \n",
        "print(tekst[0:5])\n",
        "# de laatste:\n",
        "print(tekst[-5:])\n",
        "\n",
        "subtekst = tekst[3:10]\n",
        "print(subtekst)\n",
        "\n",
        "lengteTekst = len(tekst)\n",
        "print(lengteTekst)\n",
        "\n",
        "tekstTwee = \"Dit is de tweede zin\"\n",
        "lengteTekstTwee = len(tekstTwee)\n",
        "print(lengteTekstTwee)\n",
        "\n",
        "# Hoe lang zijn de twee zinnen samen?\n",
        "print(lengteTekst + lengteTekstTwee)\n",
        "\n"
      ],
      "metadata": {
        "id": "0wzm9gx7Bfkz"
      },
      "execution_count": null,
      "outputs": []
    },
    {
      "cell_type": "markdown",
      "source": [
        "## Loops: de For-loop en de While-loop: iteraties\n",
        "De \"for\" in de for-loop zou je kunnen vertalen als: voor elke eenheid in een verzameling. \n",
        "\n",
        "\"while\" zou je kunnen vertalen als: zolang als..."
      ],
      "metadata": {
        "id": "5rc83O3UFA8y"
      }
    },
    {
      "cell_type": "code",
      "source": [
        "print(\"---------FOR:--------------\\n\")\n",
        "\n",
        "for i in range(0, 10):\n",
        "    print(i)\n",
        "print(\"het werkt!\")\n",
        "\n",
        "print(\"en het eindgetal: \" + str(i) + \"\\n\")\n",
        "\n",
        "print(\"hier begint dus de nieuwe alinea\")\n",
        "# Wat valt hier op? \n",
        "# De telling: van 0 tot 9 ipv van 1 tot 10\n",
        "# Het inspringen: zolang er ingesprongen is, zit je in de iteratie. \n",
        "# de naam \"i\" mag je zelf kiezen: mag ook een woord zijn (maar vaak wordt i gebruikt bij een getal). \n",
        "# de tekens \"\\n\" staan voor nieuwe alinea. (\\r staat voor nieuwe regel, \\t staat voor tab, \\s staat (ook) voor spatie)\n",
        "# met 'break' verlaat je vroegtijdig de loop\n",
        "\n",
        "print(\"---------WHILE:--------------\\n\")\n",
        "\n",
        "y=1\n",
        "while y < 10:\n",
        "  y = y + 1 # snellere notatie: y += 1\n",
        "  print(y)\n",
        "print(\"en het eindgetal: \" + str(y) + \"\\n\")\n",
        "\n",
        "# Wat valt hier op? \n",
        "# hij begint bij 2 en telt tot en met 10! \n",
        "# Waarom?\n",
        "\n",
        "# Als we de twee regels van de while-loop omdraaien: \n",
        "y=1\n",
        "while y < 10:\n",
        "  print(y)\n",
        "  y = y + 1 # snellere notatie: y += 1\n",
        "print(\"en het eindgetal: \" + str(y) + \"\\n\")\n",
        "\n"
      ],
      "metadata": {
        "id": "FsVJBQZPFHNc"
      },
      "execution_count": null,
      "outputs": []
    },
    {
      "cell_type": "markdown",
      "source": [
        "## vergelijkingsoperatoren:\n",
        "* groter dan: >\n",
        "* kleiner dan: <\n",
        "* groter of gelijk aan: >= \n",
        "* kleiner of gelijk aan: <=\n",
        "* is gelijk aan: == (dus let op: 2x een =-teken!!)\n",
        "* is niet gelijk aan: !="
      ],
      "metadata": {
        "id": "knrXcYjcJHlK"
      }
    },
    {
      "cell_type": "markdown",
      "source": [
        "## If-statements: \n",
        "if ...\n",
        "elif ... (dat is een afko voor else if)\n",
        "else ..."
      ],
      "metadata": {
        "id": "yGiQF4IhWGp8"
      }
    },
    {
      "cell_type": "code",
      "source": [
        "z = 1\n",
        "for i in range(0, 10):\n",
        "    if i < 6:\n",
        "        for j in range(10000000):\n",
        "            z += 1\n",
        "        print(i)\n",
        "        #  Hier is dus twee keer ingesprongen\n",
        "    elif i == 6:\n",
        "        # Let op: gebruik het =-teken dubbel: ==        \n",
        "        print(\"i is nu precies: \" + str(i))\n",
        "    else: \n",
        "        print(\"i is groter dan zes, namelijk: \" + str(i))\n",
        "    print(\"--------\")\n",
        "print(\"Einde.\")"
      ],
      "metadata": {
        "id": "6axh2WV4J3OQ"
      },
      "execution_count": null,
      "outputs": []
    },
    {
      "cell_type": "code",
      "source": [
        "# Nog een paar \"string manipulations:\"\n",
        "tekst = \"Dit is weer eens een zin.\"\n",
        "# print(tekst.find(\"weer\"))\n",
        "# print(tekst.find(\"zin\"))\n",
        "# print(tekst[tekst.find(\"weer\"):tekst.find(\"zin\")])\n",
        "# print(tekst.count(\"i\"))\n",
        "# print(tekst.lower())\n",
        "# print(tekst.upper())\n",
        "# print(tekst.replace(\"e\", \"i\"))\n",
        "# print(tekst.replace(\"e\", \"\"))"
      ],
      "metadata": {
        "colab": {
          "base_uri": "https://localhost:8080/"
        },
        "id": "wh-Fr6aDLg2-",
        "outputId": "9aa756c4-0d75-412f-d27b-7e2f26ca23b4"
      },
      "execution_count": 15,
      "outputs": [
        {
          "output_type": "stream",
          "name": "stdout",
          "text": [
            "Dit is wr ns n zin.\n"
          ]
        }
      ]
    },
    {
      "cell_type": "markdown",
      "source": [
        "## Oefening\n",
        "Zorg dat de computer de zin \"Deze zin moet worden omgedraaid!\" omdraait naar: \"!diaardegmo nedrow teom niz ezeD\"\n",
        "\n",
        "Tip: gebruik een for-loop.\n",
        "\n",
        "Chat-GPT: https://chat.openai.com/"
      ],
      "metadata": {
        "id": "Z8MpQaMRODvJ"
      }
    },
    {
      "cell_type": "code",
      "source": [
        "print(''.join(reversed(\"Deze zin moet worden omgedraaid!\")))"
      ],
      "metadata": {
        "colab": {
          "base_uri": "https://localhost:8080/"
        },
        "id": "Djo8lU5qOGLk",
        "outputId": "90d84f0f-9570-4c41-8454-a2c5fb0a1fc6"
      },
      "execution_count": 16,
      "outputs": [
        {
          "output_type": "stream",
          "name": "stdout",
          "text": [
            "!diaardegmo nedrow teom niz ezeD\n"
          ]
        }
      ]
    },
    {
      "cell_type": "code",
      "source": [
        "beginzin = \"Deze zin moet worden omgedraaid!\"\n",
        "eindzin = \"\"\n",
        "for i in range(len(beginzin)):\n",
        "    eindzin = eindzin + beginzin[-1:]\n",
        "    beginzin = beginzin[0:len(beginzin)-1]\n",
        "print(eindzin)"
      ],
      "metadata": {
        "colab": {
          "base_uri": "https://localhost:8080/"
        },
        "id": "Poofbj5eP-MJ",
        "outputId": "70a63810-0a80-43e1-c210-0af9c6372a32"
      },
      "execution_count": 19,
      "outputs": [
        {
          "output_type": "stream",
          "name": "stdout",
          "text": [
            "!diaardegmo nedrow teom niz ezeD\n"
          ]
        }
      ]
    },
    {
      "cell_type": "code",
      "source": [
        "beginzin = \"Deze zin moet worden omgedraaid!\"[::-1]\n",
        "print(beginzin)\n"
      ],
      "metadata": {
        "colab": {
          "base_uri": "https://localhost:8080/"
        },
        "id": "EotEoft7Qjp2",
        "outputId": "01e27c7a-64f2-4987-8515-7640be22ade5"
      },
      "execution_count": 23,
      "outputs": [
        {
          "output_type": "stream",
          "name": "stdout",
          "text": [
            "!diaardegmo nedrow teom niz ezeD\n"
          ]
        }
      ]
    },
    {
      "cell_type": "markdown",
      "source": [
        "Voor nog veel meer string manipulation: https://www.pythonforbeginners.com/basics/string-manipulation-in-python"
      ],
      "metadata": {
        "id": "ESXZtb21Q3OL"
      }
    }
  ]
}